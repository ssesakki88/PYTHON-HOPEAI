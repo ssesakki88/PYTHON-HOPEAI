{
 "cells": [
  {
   "cell_type": "code",
   "execution_count": 3,
   "metadata": {},
   "outputs": [],
   "source": [
    "from CallMultipleFunctions import CallMultipleFunctions"
   ]
  },
  {
   "cell_type": "code",
   "execution_count": 4,
   "metadata": {},
   "outputs": [
    {
     "name": "stdout",
     "output_type": "stream",
     "text": [
      "Sub-fields in AI are:\n",
      "Machine Learning\n",
      "Neural Networks\n",
      "Vision\n",
      "Robotics\n",
      "Speech Processing\n",
      "Netural Language Processing\n"
     ]
    }
   ],
   "source": [
    "CallMultipleFunctions.Subfields()"
   ]
  },
  {
   "cell_type": "code",
   "execution_count": 5,
   "metadata": {},
   "outputs": [
    {
     "name": "stdout",
     "output_type": "stream",
     "text": [
      "Enter a number:34\n",
      "34 is Even Number\n"
     ]
    }
   ],
   "source": [
    "CallMultipleFunctions.OddEven()"
   ]
  },
  {
   "cell_type": "code",
   "execution_count": 6,
   "metadata": {},
   "outputs": [
    {
     "name": "stdout",
     "output_type": "stream",
     "text": [
      "Your Gender:Male\n",
      "Your Age:24\n",
      "ELIGIBLE\n"
     ]
    }
   ],
   "source": [
    "CallMultipleFunctions.Elegible()"
   ]
  },
  {
   "cell_type": "code",
   "execution_count": 7,
   "metadata": {},
   "outputs": [
    {
     "name": "stdout",
     "output_type": "stream",
     "text": [
      "Subject1=98\n",
      "Subject2=99\n",
      "Subject3=96\n",
      "Subject4=95\n",
      "Subject5=93\n",
      "Total: 481\n",
      "Percentage : 96.2\n"
     ]
    }
   ],
   "source": [
    "CallMultipleFunctions.percentage()"
   ]
  },
  {
   "cell_type": "code",
   "execution_count": 8,
   "metadata": {},
   "outputs": [
    {
     "name": "stdout",
     "output_type": "stream",
     "text": [
      "Height:32\n",
      "Breath:34\n",
      "Area of Triangle: 544.0\n",
      "Height1:2\n",
      "Height2:4\n",
      "Breath:4\n",
      "Perimeter of Triangle:  10\n"
     ]
    }
   ],
   "source": [
    "CallMultipleFunctions.triangle()"
   ]
  },
  {
   "cell_type": "code",
   "execution_count": null,
   "metadata": {},
   "outputs": [],
   "source": []
  }
 ],
 "metadata": {
  "kernelspec": {
   "display_name": "Python 3",
   "language": "python",
   "name": "python3"
  },
  "language_info": {
   "codemirror_mode": {
    "name": "ipython",
    "version": 3
   },
   "file_extension": ".py",
   "mimetype": "text/x-python",
   "name": "python",
   "nbconvert_exporter": "python",
   "pygments_lexer": "ipython3",
   "version": "3.7.4"
  }
 },
 "nbformat": 4,
 "nbformat_minor": 2
}
