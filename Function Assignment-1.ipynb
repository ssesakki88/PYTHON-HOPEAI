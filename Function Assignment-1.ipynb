{
 "cells": [
  {
   "cell_type": "code",
   "execution_count": 6,
   "metadata": {},
   "outputs": [],
   "source": [
    "# Create a class and function, and list out the items in the list\n",
    "\n",
    "def SubfieldsInAI_Subfields():\n",
    "    fields=[\"Machine Learning\",\"Neural Networks\",\"Vision\",\"Robotics\",\"Speech Processing\",\"Netural Language Processing\"]\n",
    "    print(\"Sub-fields in AI are:\")\n",
    "    for x in fields:\n",
    "        print(x)"
   ]
  },
  {
   "cell_type": "code",
   "execution_count": 7,
   "metadata": {},
   "outputs": [
    {
     "name": "stdout",
     "output_type": "stream",
     "text": [
      "Sub-fields in AI are:\n",
      "Machine Learning\n",
      "Neural Networks\n",
      "Vision\n",
      "Robotics\n",
      "Speech Processing\n",
      "Netural Language Processing\n"
     ]
    }
   ],
   "source": [
    "SubfieldsInAI_Subfields()"
   ]
  },
  {
   "cell_type": "code",
   "execution_count": 12,
   "metadata": {},
   "outputs": [],
   "source": [
    "# Create a function that checks whether the given number is Odd or Even\n",
    "\n",
    "def OddEven_OddEven():\n",
    "    num=int(input(\"Enter a number:\"))\n",
    "    if((num%2==1)):\n",
    "        print(num,\"is Odd Number\")\n",
    "    else:\n",
    "        print(num,\"is Even Number\")\n",
    "        "
   ]
  },
  {
   "cell_type": "code",
   "execution_count": 13,
   "metadata": {},
   "outputs": [
    {
     "name": "stdout",
     "output_type": "stream",
     "text": [
      "Enter a number:52452\n",
      "52452 is Even Number\n"
     ]
    }
   ],
   "source": [
    "OddEven_OddEven()"
   ]
  },
  {
   "cell_type": "code",
   "execution_count": 14,
   "metadata": {},
   "outputs": [],
   "source": [
    "# Create a function that tells elegibility of marriage for male and female according to their age limit like 21 \n",
    "#for male and 18 for female\n",
    "\n",
    "def ElegiblityForMarriage_Elegible():\n",
    "    Gender=input(\"Your Gender:\")\n",
    "    Age=int(input(\"Your Age:\"))\n",
    "    ELG='ELIGIBLE'\n",
    "    NELG='NOT ELIGIBLE'\n",
    "    \n",
    "    if(Gender==\"Male\"):\n",
    "        if(Age>=21):\n",
    "            print(ELG)\n",
    "        else:\n",
    "            print(NELG)\n",
    "    elif(Gender==\"Female\"):\n",
    "        if(Age>=18):\n",
    "            print(ELG)\n",
    "        else:\n",
    "            print(NELG)\n",
    "    else:\n",
    "        print('INVALID INPUT')\n",
    "\n",
    "        "
   ]
  },
  {
   "cell_type": "code",
   "execution_count": 15,
   "metadata": {},
   "outputs": [
    {
     "name": "stdout",
     "output_type": "stream",
     "text": [
      "Your Gender:Male\n",
      "Your Age:20\n",
      "NOT ELIGIBLE\n"
     ]
    }
   ],
   "source": [
    "ElegiblityForMarriage_Elegible()"
   ]
  },
  {
   "cell_type": "code",
   "execution_count": 22,
   "metadata": {},
   "outputs": [],
   "source": [
    "# calculate the percentage of your 10th mark\n",
    "   \n",
    "def FindPercent_percentage():\n",
    "    Sub1=int(input(\"Subject1=\"))\n",
    "    Sub2=int(input(\"Subject2=\"))\n",
    "    Sub3=int(input(\"Subject3=\"))\n",
    "    Sub4=int(input(\"Subject4=\"))\n",
    "    Sub5=int(input(\"Subject5=\"))\n",
    "    Tot=Sub1+Sub2+Sub3+Sub4+Sub5\n",
    "    print(\"Total:\",Tot)\n",
    "    Per=100*Tot/500\n",
    "    print(\"Percentage :\", Per)"
   ]
  },
  {
   "cell_type": "code",
   "execution_count": 23,
   "metadata": {},
   "outputs": [
    {
     "name": "stdout",
     "output_type": "stream",
     "text": [
      "Subject1=98\n",
      "Subject2=87\n",
      "Subject3=95\n",
      "Subject4=95\n",
      "Subject5=93\n",
      "Total: 468\n",
      "Percentage : 93.6\n"
     ]
    }
   ],
   "source": [
    "FindPercent_percentage()"
   ]
  },
  {
   "cell_type": "code",
   "execution_count": 26,
   "metadata": {},
   "outputs": [],
   "source": [
    "#print area and perimeter of triangle using class and functions\n",
    "\n",
    "def triangle_triangle():\n",
    "    h=int(input(\"Height:\"))\n",
    "    b=int(input(\"Breath:\"))\n",
    "    AOT=(h*b)/2\n",
    "    print(\"Area of Triangle:\",AOT)\n",
    "    h1=int(input(\"Height1:\"))\n",
    "    h2=int(input(\"Height2:\"))\n",
    "    b1=int(input(\"Breath:\"))\n",
    "    perimeter=h1+h2+b1\n",
    "    print(\"Perimeter of Triangle: \",perimeter)"
   ]
  },
  {
   "cell_type": "code",
   "execution_count": 27,
   "metadata": {},
   "outputs": [
    {
     "name": "stdout",
     "output_type": "stream",
     "text": [
      "Height:32\n",
      "Breath:34\n",
      "Area of Triangle: 544.0\n",
      "Height1:2\n",
      "Height2:4\n",
      "Breath:4\n",
      "Perimeter of Triangle:  10\n"
     ]
    }
   ],
   "source": [
    "triangle_triangle()"
   ]
  },
  {
   "cell_type": "code",
   "execution_count": null,
   "metadata": {},
   "outputs": [],
   "source": []
  }
 ],
 "metadata": {
  "kernelspec": {
   "display_name": "Python 3",
   "language": "python",
   "name": "python3"
  },
  "language_info": {
   "codemirror_mode": {
    "name": "ipython",
    "version": 3
   },
   "file_extension": ".py",
   "mimetype": "text/x-python",
   "name": "python",
   "nbconvert_exporter": "python",
   "pygments_lexer": "ipython3",
   "version": "3.7.4"
  }
 },
 "nbformat": 4,
 "nbformat_minor": 2
}
