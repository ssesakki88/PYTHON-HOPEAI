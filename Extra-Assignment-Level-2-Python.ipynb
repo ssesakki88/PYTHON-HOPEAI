{
 "cells": [
  {
   "cell_type": "code",
   "execution_count": 1,
   "metadata": {},
   "outputs": [
    {
     "name": "stdout",
     "output_type": "stream",
     "text": [
      "0\n",
      "1\n",
      "2\n",
      "3\n",
      "4\n",
      "5\n",
      "6\n",
      "7\n",
      "8\n",
      "9\n",
      "10\n",
      "11\n",
      "12\n",
      "13\n",
      "14\n",
      "15\n",
      "16\n",
      "17\n",
      "18\n",
      "19\n"
     ]
    }
   ],
   "source": [
    "#Print 0 to 20 by using range\n",
    "\n",
    "for i in range(0,20):\n",
    "    print(i)"
   ]
  },
  {
   "cell_type": "code",
   "execution_count": 6,
   "metadata": {},
   "outputs": [
    {
     "name": "stdout",
     "output_type": "stream",
     "text": [
      "10  11  12  13  14  15  16  17  18  19  "
     ]
    }
   ],
   "source": [
    "#print range 10 to 20\n",
    "for i in range(10,20):\n",
    "    print(i, end='  ')"
   ]
  },
  {
   "cell_type": "code",
   "execution_count": 16,
   "metadata": {},
   "outputs": [
    {
     "name": "stdout",
     "output_type": "stream",
     "text": [
      "[10, 20, 14, 55, 43, 87, 76]\n",
      "Number of item in the List2:  7\n"
     ]
    }
   ],
   "source": [
    "#print no  items in the list using 'len'\n",
    "#Output\n",
    "#[10, 20, 14, 55, 43, 87, 76]\n",
    "#Number of item in the List2:\n",
    "#7\n",
    "\n",
    "list=[10, 20, 14, 55, 43, 87, 76]\n",
    "print(list)\n",
    "lenth=len(list)\n",
    "print(\"Number of item in the List2: \", lenth)\n"
   ]
  },
  {
   "cell_type": "code",
   "execution_count": 14,
   "metadata": {},
   "outputs": [
    {
     "name": "stdout",
     "output_type": "stream",
     "text": [
      "[10, 20, 14, 55, 43, 87, 76]\n",
      "Number of item in the List2: \n",
      "7\n"
     ]
    }
   ],
   "source": [
    "#print no  items in the list using 'len'\n",
    "list=[10, 20, 14, 55, 43, 87, 76]\n",
    "print(list)\n",
    "lenth=len(list)\n",
    "print(\"Number of item in the List2: \")\n",
    "print(lenth)"
   ]
  },
  {
   "cell_type": "code",
   "execution_count": 22,
   "metadata": {},
   "outputs": [
    {
     "name": "stdout",
     "output_type": "stream",
     "text": [
      "Artificial Intelligence\n",
      "A\n",
      "r\n",
      "t\n",
      "i\n",
      "f\n",
      "i\n",
      "c\n",
      "i\n",
      "a\n",
      "l\n",
      " \n",
      "I\n",
      "n\n",
      "t\n",
      "e\n",
      "l\n",
      "l\n",
      "i\n",
      "g\n",
      "e\n",
      "n\n",
      "c\n",
      "e\n"
     ]
    }
   ],
   "source": [
    "i=\"Artificial Intelligence\"\n",
    "print(i)\n",
    "for x in i:\n",
    "    print(x)\n"
   ]
  },
  {
   "cell_type": "code",
   "execution_count": 37,
   "metadata": {},
   "outputs": [
    {
     "name": "stdout",
     "output_type": "stream",
     "text": [
      "-Your Name-\n",
      "-Your Age-\n",
      "-Your Profession-\n"
     ]
    }
   ],
   "source": [
    "#-Your Name-\n",
    "#-Your Age-\n",
    "#-Your Profession-\n",
    "\n",
    "#print(\"-Your Name-\")\n",
    "#print(\"-Your Age-\")\n",
    "#print(\"-Your Profession-\")\n",
    "\n",
    "lists=[\"-Your Name-\",\"-Your Age-\",\"-Your Profession-\"]\n",
    "for i in lists:\n",
    "    print(i)"
   ]
  },
  {
   "cell_type": "code",
   "execution_count": 32,
   "metadata": {},
   "outputs": [
    {
     "name": "stdout",
     "output_type": "stream",
     "text": [
      "(1, 'Welcome', 2, 'Hope')\n"
     ]
    }
   ],
   "source": [
    "# Refer this link : https://www.geeksforgeeks.org/python-tuples/\n",
    "# Print yhis mixered datatype using Tuples\n",
    "\n",
    "tuple = (1, 'Welcome', 2, 'Hope')\n",
    "#print(\"\\nTuple with Mixed Datatypes: \")\n",
    "print(tuple)"
   ]
  },
  {
   "cell_type": "code",
   "execution_count": 31,
   "metadata": {},
   "outputs": [
    {
     "name": "stdout",
     "output_type": "stream",
     "text": [
      "((0, 1, 2, 3), ('python', 'HOPE'))\n"
     ]
    }
   ],
   "source": [
    "# Refer this link : https://www.geeksforgeeks.org/python-tuples/\n",
    "#((0, 1, 2, 3), ('python', 'HOPE'))\n",
    "\n",
    "# Creating a Tuple\n",
    "# with nested tuples\n",
    "tuple1 = (0, 1, 2, 3)\n",
    "tuple2 = ('python', 'HOPE')\n",
    "tuple3 = (tuple1, tuple2)\n",
    "#print(\"Tuple with nested tuples: \")\n",
    "print(tuple3)"
   ]
  },
  {
   "cell_type": "code",
   "execution_count": 35,
   "metadata": {},
   "outputs": [
    {
     "name": "stdout",
     "output_type": "stream",
     "text": [
      "(20, 10, 16, 19, 25, 1, 276, 188)\n",
      "19 is odd\n",
      "25 is odd\n",
      "1 is odd\n"
     ]
    }
   ],
   "source": [
    "# print Odd Numbers in the list\n",
    "\n",
    "list1 = (20,10,16,19,25,1,276,188)\n",
    "print(list1)\n",
    "\n",
    "for num in list1:\n",
    " \n",
    "    if num % 2 != 0:\n",
    "       print(num, \"is odd\")"
   ]
  },
  {
   "cell_type": "code",
   "execution_count": 36,
   "metadata": {},
   "outputs": [
    {
     "name": "stdout",
     "output_type": "stream",
     "text": [
      "(20, 10, 16, 19, 25, 1, 276, 188)\n",
      "20 is Even\n",
      "10 is Even\n",
      "16 is Even\n",
      "276 is Even\n",
      "188 is Even\n"
     ]
    }
   ],
   "source": [
    "# print Even numbers in the list\n",
    "\n",
    "list1 = (20,10,16,19,25,1,276,188)\n",
    "print(list1)\n",
    "\n",
    "for num in list1:\n",
    " \n",
    "    if num % 2 == 0:\n",
    "       print(num, \"is Even\")\n"
   ]
  },
  {
   "cell_type": "code",
   "execution_count": null,
   "metadata": {},
   "outputs": [],
   "source": []
  }
 ],
 "metadata": {
  "kernelspec": {
   "display_name": "Python 3",
   "language": "python",
   "name": "python3"
  },
  "language_info": {
   "codemirror_mode": {
    "name": "ipython",
    "version": 3
   },
   "file_extension": ".py",
   "mimetype": "text/x-python",
   "name": "python",
   "nbconvert_exporter": "python",
   "pygments_lexer": "ipython3",
   "version": "3.7.4"
  }
 },
 "nbformat": 4,
 "nbformat_minor": 2
}
