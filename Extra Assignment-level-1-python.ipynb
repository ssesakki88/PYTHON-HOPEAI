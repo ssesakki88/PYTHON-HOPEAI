{
 "cells": [
  {
   "cell_type": "code",
   "execution_count": 1,
   "metadata": {},
   "outputs": [
    {
     "name": "stdout",
     "output_type": "stream",
     "text": [
      "HOPE AI\n"
     ]
    }
   ],
   "source": [
    "#Print Statement\n",
    "print(\"HOPE AI\")"
   ]
  },
  {
   "cell_type": "code",
   "execution_count": 2,
   "metadata": {},
   "outputs": [
    {
     "name": "stdout",
     "output_type": "stream",
     "text": [
      "Enter your Institute Name?:HOPE AI\n"
     ]
    }
   ],
   "source": [
    "#Buy Input\n",
    "int_name=input(\"Enter your Institute Name?:\")\n",
    "#print(int_name)"
   ]
  },
  {
   "cell_type": "code",
   "execution_count": 3,
   "metadata": {},
   "outputs": [
    {
     "name": "stdout",
     "output_type": "stream",
     "text": [
      "Enter Your Name:Selva\n",
      "Enter Your Age:27\n",
      "Enter Your School Name:Guru Sankar\n",
      "Enter Your Degree:BCA\n"
     ]
    }
   ],
   "source": [
    "#Buy Inputs\n",
    "Name=input(\"Enter Your Name:\")\n",
    "Age=input(\"Enter Your Age:\")\n",
    "School_Name=input(\"Enter Your School Name:\")\n",
    "Degree=input(\"Enter Your Degree:\")\n",
    "\n"
   ]
  },
  {
   "cell_type": "code",
   "execution_count": 4,
   "metadata": {},
   "outputs": [
    {
     "name": "stdout",
     "output_type": "stream",
     "text": [
      "a= 43\n",
      "b= 34\n",
      "add =  77\n"
     ]
    }
   ],
   "source": [
    "#Addition\n",
    "a=int(input(\"a= \"))\n",
    "b=int(input(\"b= \"))\n",
    "print(\"add = \",a+b)"
   ]
  },
  {
   "cell_type": "code",
   "execution_count": 6,
   "metadata": {},
   "outputs": [
    {
     "name": "stdout",
     "output_type": "stream",
     "text": [
      "a= 43\n",
      "b= 34\n",
      "Sub =  9\n"
     ]
    }
   ],
   "source": [
    "#Substraction\n",
    "a=int(input(\"a= \"))\n",
    "b=int(input(\"b= \"))\n",
    "print(\"Sub = \",a-b)\n"
   ]
  },
  {
   "cell_type": "code",
   "execution_count": 7,
   "metadata": {},
   "outputs": [
    {
     "name": "stdout",
     "output_type": "stream",
     "text": [
      "a= 63\n",
      "b= 97\n",
      "Mul =  6111\n"
     ]
    }
   ],
   "source": [
    "#Multiplication\n",
    "a=int(input(\"a= \"))\n",
    "b=int(input(\"b= \"))\n",
    "print(\"Mul = \",a*b)\n"
   ]
  },
  {
   "cell_type": "code",
   "execution_count": 8,
   "metadata": {},
   "outputs": [
    {
     "name": "stdout",
     "output_type": "stream",
     "text": [
      "a= 76\n",
      "b= 31\n",
      "Float Div =  2.4516129032258065\n"
     ]
    }
   ],
   "source": [
    "#Division\n",
    "a=int(input(\"a= \"))\n",
    "b=int(input(\"b= \"))\n",
    "print(\"Float Div = \",a/b)\n"
   ]
  },
  {
   "cell_type": "code",
   "execution_count": 9,
   "metadata": {},
   "outputs": [
    {
     "name": "stdout",
     "output_type": "stream",
     "text": [
      "a= 76\n",
      "b= 31\n",
      "Floor Div =  2\n"
     ]
    }
   ],
   "source": [
    "#Floor Division\n",
    "a=int(input(\"a= \"))\n",
    "b=int(input(\"b= \"))\n",
    "print(\"Floor Div = \",a//b)"
   ]
  },
  {
   "cell_type": "code",
   "execution_count": 10,
   "metadata": {},
   "outputs": [
    {
     "name": "stdout",
     "output_type": "stream",
     "text": [
      "a= 76\n",
      "b= 31\n",
      "modulo =  14\n"
     ]
    }
   ],
   "source": [
    "#modulo\n",
    "a=int(input(\"a= \"))\n",
    "b=int(input(\"b= \"))\n",
    "print(\"modulo = \",a%b)\n"
   ]
  },
  {
   "cell_type": "code",
   "execution_count": 11,
   "metadata": {},
   "outputs": [
    {
     "name": "stdout",
     "output_type": "stream",
     "text": [
      "a= 4\n",
      "b= 4\n",
      "Power =  256\n"
     ]
    }
   ],
   "source": [
    "#Power\n",
    "a=int(input(\"a= \"))\n",
    "b=int(input(\"b= \"))\n",
    "print(\"Power = \",a**b)\n"
   ]
  },
  {
   "cell_type": "code",
   "execution_count": null,
   "metadata": {},
   "outputs": [],
   "source": []
  }
 ],
 "metadata": {
  "kernelspec": {
   "display_name": "Python 3",
   "language": "python",
   "name": "python3"
  },
  "language_info": {
   "codemirror_mode": {
    "name": "ipython",
    "version": 3
   },
   "file_extension": ".py",
   "mimetype": "text/x-python",
   "name": "python",
   "nbconvert_exporter": "python",
   "pygments_lexer": "ipython3",
   "version": "3.7.4"
  }
 },
 "nbformat": 4,
 "nbformat_minor": 2
}
