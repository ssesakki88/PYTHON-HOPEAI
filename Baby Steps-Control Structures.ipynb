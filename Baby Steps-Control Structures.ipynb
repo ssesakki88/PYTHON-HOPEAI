{
 "cells": [
  {
   "cell_type": "code",
   "execution_count": 1,
   "metadata": {},
   "outputs": [
    {
     "name": "stdout",
     "output_type": "stream",
     "text": [
      "Welcome to Assignment-1\n"
     ]
    }
   ],
   "source": [
    "print(\"Welcome to Assignment-1\")"
   ]
  },
  {
   "cell_type": "code",
   "execution_count": 3,
   "metadata": {},
   "outputs": [
    {
     "name": "stdout",
     "output_type": "stream",
     "text": [
      "Num1: 10\n",
      "Num2: 30\n",
      "Add: 40\n"
     ]
    }
   ],
   "source": [
    "num1=10\n",
    "print(\"Num1:\",num1)\n",
    "num2=30\n",
    "print(\"Num2:\",num2)\n",
    "print(\"Add:\",num1+num2)"
   ]
  },
  {
   "cell_type": "markdown",
   "metadata": {},
   "source": [
    "#Body Mass Index"
   ]
  },
  {
   "cell_type": "markdown",
   "metadata": {},
   "source": [
    "Normal=18-25\n",
    "Over weight=26-30\n",
    "Obese=31-40\n",
    "Morbidly Obese >40"
   ]
  },
  {
   "cell_type": "code",
   "execution_count": 7,
   "metadata": {},
   "outputs": [
    {
     "name": "stdout",
     "output_type": "stream",
     "text": [
      "Enter the BMI Index:41\n",
      "Morbidly Obese\n"
     ]
    }
   ],
   "source": [
    "Bmi=int(input(\"Enter the BMI Index:\"))\n",
    "if(Bmi<25):\n",
    "    print(\"Normal\")\n",
    "elif(Bmi<30):\n",
    "    print(\"Over Weight\")\n",
    "elif(Bmi<40):\n",
    "    print(\"Obese\")\n",
    "else:\n",
    "    print(\"Morbidly Obese\")"
   ]
  },
  {
   "cell_type": "code",
   "execution_count": 14,
   "metadata": {},
   "outputs": [
    {
     "name": "stdout",
     "output_type": "stream",
     "text": [
      "Enter the BMI Index:33\n",
      "Obese\n"
     ]
    }
   ],
   "source": [
    "Bmi=int(input(\"Enter the BMI Index:\"))\n",
    "if(Bmi<18):\n",
    "    print(\"invalid value\")\n",
    "elif(Bmi>=18 and Bmi<25):\n",
    "    print(\"Normal\")\n",
    "elif(Bmi>=25 and Bmi<30):\n",
    "    print(\"Over Weight\")\n",
    "elif(Bmi>=30 and Bmi<40):\n",
    "    print(\"Obese\")\n",
    "else:\n",
    "    print(\"Morbidly Obese\")"
   ]
  },
  {
   "cell_type": "code",
   "execution_count": 15,
   "metadata": {},
   "outputs": [
    {
     "name": "stdout",
     "output_type": "stream",
     "text": [
      "Num1=10\n",
      "10\n",
      "Num2=30\n",
      "30\n",
      "Add= 40\n"
     ]
    }
   ],
   "source": [
    "num1=int(input(\"Num1=\"))\n",
    "print(num1)\n",
    "num2=int(input(\"Num2=\"))\n",
    "print(num2)\n",
    "print(\"Add=\",num1+num2)"
   ]
  },
  {
   "cell_type": "code",
   "execution_count": null,
   "metadata": {},
   "outputs": [],
   "source": []
  }
 ],
 "metadata": {
  "kernelspec": {
   "display_name": "Python 3",
   "language": "python",
   "name": "python3"
  },
  "language_info": {
   "codemirror_mode": {
    "name": "ipython",
    "version": 3
   },
   "file_extension": ".py",
   "mimetype": "text/x-python",
   "name": "python",
   "nbconvert_exporter": "python",
   "pygments_lexer": "ipython3",
   "version": "3.7.4"
  }
 },
 "nbformat": 4,
 "nbformat_minor": 2
}
